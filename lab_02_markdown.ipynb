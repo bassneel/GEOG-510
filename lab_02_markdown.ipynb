{
 "cells": [
  {
   "cell_type": "markdown",
   "id": "0074560e-89f4-49cd-8c0c-3aa577b1bd3b",
   "metadata": {},
   "source": [
    "[![image](https://colab.research.google.com/assets/colab-badge.svg)](https://colab.research.google.com/drive/lab_02_markdown)"
   ]
  },
  {
   "cell_type": "markdown",
   "id": "b2a9de1b-b5a2-4a3c-b4f3-e8170db36e7b",
   "metadata": {},
   "source": [
    "### **Lab 02**"
   ]
  },
  {
   "cell_type": "markdown",
   "id": "d2f42b8d-bac0-4a19-b6a4-08b5400d6301",
   "metadata": {},
   "source": [
    "Below are examples of how to use markdown in Jupyter Notebook"
   ]
  },
  {
   "cell_type": "code",
   "execution_count": 1,
   "id": "d26b4245-36d8-419e-953e-7def64edbfae",
   "metadata": {},
   "outputs": [
    {
     "name": "stdout",
     "output_type": "stream",
     "text": [
      "This is the Jupyter Notebook file for Lab 02\n"
     ]
    }
   ],
   "source": [
    "print(\"This is the Jupyter Notebook file for Lab 02\")"
   ]
  },
  {
   "cell_type": "code",
   "execution_count": 2,
   "id": "5c61ce9a",
   "metadata": {},
   "outputs": [
    {
     "data": {
      "application/vnd.jupyter.widget-view+json": {
       "model_id": "f97da328b6314e84be153e3418ebafe4",
       "version_major": 2,
       "version_minor": 0
      },
      "text/plain": [
       "Map(center=[20, 0], controls=(ZoomControl(options=['position', 'zoom_in_text', 'zoom_in_title', 'zoom_out_text…"
      ]
     },
     "metadata": {},
     "output_type": "display_data"
    }
   ],
   "source": [
    "import leafmap\n",
    "m = leafmap.Map()\n",
    "m.add_basemap(\"Esri.WorldGrayCanvas\")\n",
    "m"
   ]
  }
 ],
 "metadata": {
  "kernelspec": {
   "display_name": "Python 3 (ipykernel)",
   "language": "python",
   "name": "python3"
  },
  "language_info": {
   "codemirror_mode": {
    "name": "ipython",
    "version": 3
   },
   "file_extension": ".py",
   "mimetype": "text/x-python",
   "name": "python",
   "nbconvert_exporter": "python",
   "pygments_lexer": "ipython3",
   "version": "3.9.16"
  }
 },
 "nbformat": 4,
 "nbformat_minor": 5
}
